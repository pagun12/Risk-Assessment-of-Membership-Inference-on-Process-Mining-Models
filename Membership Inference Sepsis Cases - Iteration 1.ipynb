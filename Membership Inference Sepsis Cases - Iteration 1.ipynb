{
 "cells": [
  {
   "cell_type": "code",
   "execution_count": 1,
   "id": "97f55e51",
   "metadata": {},
   "outputs": [],
   "source": [
    "%run experiments/sepsis_membership_inference.py"
   ]
  },
  {
   "cell_type": "code",
   "execution_count": 2,
   "id": "ff37860d",
   "metadata": {},
   "outputs": [],
   "source": [
    "from IPython.core.interactiveshell import InteractiveShell\n",
    "\n",
    "InteractiveShell.ast_node_interactivity = \"all\"\n",
    "\n",
    "pd.set_option(\"display.max_columns\", None)"
   ]
  },
  {
   "cell_type": "code",
   "execution_count": null,
   "id": "f102c3bb",
   "metadata": {},
   "outputs": [],
   "source": [
    "%run experiments/optimize_params.py \"sepsis_cases\" \"output\" \"10\" \"single\" \"index\" \"xgboost\""
   ]
  },
  {
   "cell_type": "code",
   "execution_count": null,
   "id": "d84d6c74",
   "metadata": {},
   "outputs": [],
   "source": [
    "%run experiments/experiments.py \"sepsis_cases\" \"output\" \"output\" \"single\" \"index\" \"xgboost\" \"1\" \"10\""
   ]
  },
  {
   "cell_type": "code",
   "execution_count": 8,
   "id": "431e70b1",
   "metadata": {},
   "outputs": [],
   "source": [
    "model_1 = joblib.load('output/pipeline_sepsis_cases_1.pkl')\n",
    "model_2 = joblib.load('output/pipeline_sepsis_cases_2.pkl')\n",
    "model_3 = joblib.load('output/pipeline_sepsis_cases_4.pkl')"
   ]
  },
  {
   "cell_type": "code",
   "execution_count": null,
   "id": "923668e9",
   "metadata": {},
   "outputs": [],
   "source": [
    "log_deviant_1 = []\n",
    "log_regular_1 = []"
   ]
  },
  {
   "cell_type": "code",
   "execution_count": null,
   "id": "0e7a500a",
   "metadata": {},
   "outputs": [],
   "source": [
    "synthesize_batch(container_array=log_deviant_1, target_number=500, target_model=model_1, max_iter = 100, min_prob = 0.8, target_prob = 0.8)"
   ]
  },
  {
   "cell_type": "code",
   "execution_count": null,
   "id": "860377ec",
   "metadata": {},
   "outputs": [],
   "source": [
    "synthesize_batch(container_array=log_regular_1, target_number=500, target_model=model_1, max_iter = 100, min_prob = 0.1, max_prob = 0.49, target_prob = 0.1)"
   ]
  },
  {
   "cell_type": "code",
   "execution_count": null,
   "id": "20b7590e",
   "metadata": {},
   "outputs": [],
   "source": [
    "dt_log_deviant_1 = pd.concat(log_deviant_1, ignore_index=True).sort_values(\"Case ID\", ascending=True, kind=\"mergesort\").reset_index(drop=True)\n",
    "dt_log_deviant_1.to_csv ('output/log_deviant_1.csv', sep = \";\", index = False)\n",
    "\n",
    "dt_log_regular_1 = pd.concat(log_regular_1, ignore_index=True).sort_values(\"Case ID\", ascending=True, kind=\"mergesort\").reset_index(drop=True)\n",
    "dt_log_regular_1.to_csv ('output/log_regular_1.csv', sep = \";\", index = False)"
   ]
  },
  {
   "cell_type": "code",
   "execution_count": null,
   "id": "c8ae1dd8",
   "metadata": {},
   "outputs": [],
   "source": [
    "dt_log_deviant_1 = pd.read_csv('output/log_deviant_1.csv', sep = \";\")\n",
    "dt_log_regular_1 = pd.read_csv('output/log_regular_1.csv', sep = \";\")"
   ]
  },
  {
   "cell_type": "code",
   "execution_count": null,
   "id": "dd36dd6b",
   "metadata": {},
   "outputs": [],
   "source": [
    "shadow_log = init_shadow_model_data(dt_log_deviant_1, dt_log_regular_1)\n",
    "shadow_log.to_csv ('labeled_logs_csv_processed/synthetic_log_%s.csv'%(1), sep = \";\", index = False)"
   ]
  },
  {
   "cell_type": "code",
   "execution_count": null,
   "id": "73d38002",
   "metadata": {},
   "outputs": [],
   "source": [
    "log_deviant_2 = []\n",
    "log_regular_2 = []"
   ]
  },
  {
   "cell_type": "code",
   "execution_count": null,
   "id": "7f68b9e5",
   "metadata": {},
   "outputs": [],
   "source": [
    "synthesize_batch(container_array=log_deviant_2, target_number=500, target_model=model_2, max_iter = 100, min_prob = 0.8, target_prob = 0.8)"
   ]
  },
  {
   "cell_type": "code",
   "execution_count": null,
   "id": "ecb316c4",
   "metadata": {},
   "outputs": [],
   "source": [
    "synthesize_batch(container_array=log_regular_2, target_number=500, target_model=model_2, max_iter = 100, min_prob = 0.1, max_prob = 0.49, target_prob = 0.1)"
   ]
  },
  {
   "cell_type": "code",
   "execution_count": null,
   "id": "a28cd425",
   "metadata": {},
   "outputs": [],
   "source": [
    "dt_log_deviant_2 = pd.concat(log_deviant_2, ignore_index=True).sort_values(\"Case ID\", ascending=True, kind=\"mergesort\").reset_index(drop=True)\n",
    "dt_log_deviant_2.to_csv ('output/log_deviant_2.csv', sep = \";\", index = False)\n",
    "\n",
    "dt_log_regular_2 = pd.concat(log_regular_2, ignore_index=True).sort_values(\"Case ID\", ascending=True, kind=\"mergesort\").reset_index(drop=True)\n",
    "dt_log_regular_2.to_csv ('output/log_regular_2.csv', sep = \";\", index = False)"
   ]
  },
  {
   "cell_type": "code",
   "execution_count": null,
   "id": "325910e0",
   "metadata": {},
   "outputs": [],
   "source": [
    "dt_log_deviant_2 = pd.read_csv('output/log_deviant_2.csv', sep = \";\")\n",
    "dt_log_regular_2 = pd.read_csv('output/log_regular_2.csv', sep = \";\")"
   ]
  },
  {
   "cell_type": "code",
   "execution_count": null,
   "id": "9705fd98",
   "metadata": {},
   "outputs": [],
   "source": [
    "shadow_log = init_shadow_model_data(dt_log_deviant_2, dt_log_regular_2)\n",
    "shadow_log.to_csv ('labeled_logs_csv_processed/synthetic_log_%s.csv'%(2), sep = \";\", index = False)"
   ]
  },
  {
   "cell_type": "code",
   "execution_count": null,
   "id": "4d6e4f7b",
   "metadata": {},
   "outputs": [],
   "source": [
    "log_deviant_3 = []\n",
    "log_regular_3 = []"
   ]
  },
  {
   "cell_type": "code",
   "execution_count": null,
   "id": "bb8e86ea",
   "metadata": {},
   "outputs": [],
   "source": [
    "synthesize_batch(container_array=log_deviant_3, target_number=500, target_model=model_3, max_iter = 100, min_prob = 0.8, target_prob = 0.8)"
   ]
  },
  {
   "cell_type": "code",
   "execution_count": null,
   "id": "9ed53609",
   "metadata": {},
   "outputs": [],
   "source": [
    "synthesize_batch(container_array=log_regular_3, target_number=500, target_model=model_3, max_iter = 100, min_prob = 0.1, max_prob = 0.49, target_prob = 0.1)"
   ]
  },
  {
   "cell_type": "code",
   "execution_count": null,
   "id": "41304c2d",
   "metadata": {},
   "outputs": [],
   "source": [
    "dt_log_deviant_3 = pd.concat(log_deviant_3, ignore_index=True).sort_values(\"Case ID\", ascending=True, kind=\"mergesort\").reset_index(drop=True)\n",
    "dt_log_deviant_3.to_csv ('output/log_deviant_3.csv', sep = \";\", index = False)\n",
    "\n",
    "dt_log_regular_3 = pd.concat(log_regular_3, ignore_index=True).sort_values(\"Case ID\", ascending=True, kind=\"mergesort\").reset_index(drop=True)\n",
    "dt_log_regular_3.to_csv ('output/log_regular_3.csv', sep = \";\", index = False)"
   ]
  },
  {
   "cell_type": "code",
   "execution_count": null,
   "id": "55b2187d",
   "metadata": {},
   "outputs": [],
   "source": [
    "dt_log_deviant_3 = pd.read_csv('output/log_deviant_3.csv', sep = \";\")\n",
    "dt_log_regular_3 = pd.read_csv('output/log_regular_3.csv', sep = \";\")"
   ]
  },
  {
   "cell_type": "code",
   "execution_count": null,
   "id": "9b2d61d8",
   "metadata": {},
   "outputs": [],
   "source": [
    "shadow_log = init_shadow_model_data(dt_log_deviant_3, dt_log_regular_3)\n",
    "shadow_log.to_csv ('labeled_logs_csv_processed/synthetic_log_%s.csv'%(3), sep = \";\", index = False)"
   ]
  },
  {
   "cell_type": "code",
   "execution_count": null,
   "id": "675d7cf3",
   "metadata": {},
   "outputs": [],
   "source": [
    "%run experiments/optimize_params.py \"synth_log\" \"output\" \"10\" \"single\" \"index\" \"xgboost\""
   ]
  },
  {
   "cell_type": "code",
   "execution_count": null,
   "id": "5e82d696",
   "metadata": {},
   "outputs": [],
   "source": [
    "%run experiments/experiments.py \"synth_log\" \"output\" \"output\" \"single\" \"index\" \"xgboost\" \"1\" \"10\""
   ]
  },
  {
   "cell_type": "code",
   "execution_count": null,
   "id": "00951938",
   "metadata": {},
   "outputs": [],
   "source": [
    "shadow_model_1 = joblib.load('output/pipeline_synthetic_log_1.pkl')\n",
    "shadow_model_2 = joblib.load('output/pipeline_synthetic_log_2.pkl')\n",
    "shadow_model_3 = joblib.load('output/pipeline_synthetic_log_3.pkl')"
   ]
  },
  {
   "cell_type": "code",
   "execution_count": null,
   "id": "4a6890a4",
   "metadata": {},
   "outputs": [],
   "source": [
    "synth_log_1 = pd.read_csv('labeled_logs_csv_processed/synthetic_log_1.csv', sep = \";\")\n",
    "synth_log_2 = pd.read_csv('labeled_logs_csv_processed/synthetic_log_2.csv', sep = \";\")\n",
    "synth_log_3 = pd.read_csv('labeled_logs_csv_processed/synthetic_log_3.csv', sep = \";\")"
   ]
  },
  {
   "cell_type": "code",
   "execution_count": null,
   "id": "48c913a4",
   "metadata": {},
   "outputs": [],
   "source": [
    "attack_data_set = init_attack_model_data(synth_log_1, shadow_model_1)\n",
    "attack_data_set.to_csv ('output/attack_data_set_%s.csv'%(1), sep = \";\", index = False)\n",
    "\n",
    "attack_data_set = init_attack_model_data(synth_log_2, shadow_model_2)\n",
    "attack_data_set.to_csv ('output/attack_data_set_%s.csv'%(2), sep = \";\", index = False)\n",
    "\n",
    "attack_data_set = init_attack_model_data(synth_log_3, shadow_model_3)\n",
    "attack_data_set.to_csv ('output/attack_data_set_%s.csv'%(3), sep = \";\", index = False)"
   ]
  },
  {
   "cell_type": "code",
   "execution_count": null,
   "id": "de229c01",
   "metadata": {},
   "outputs": [],
   "source": [
    "attack_data_1 = pd.read_csv('output/attack_data_set_1.csv', sep = \";\")\n",
    "attack_data_2 = pd.read_csv('output/attack_data_set_2.csv', sep = \";\")\n",
    "attack_data_3 = pd.read_csv('output/attack_data_set_3.csv', sep = \";\")"
   ]
  },
  {
   "cell_type": "code",
   "execution_count": null,
   "id": "c30f1788",
   "metadata": {},
   "outputs": [],
   "source": [
    "train_attack_model(attack_data_1, 1)\n",
    "train_attack_model(attack_data_2, 2)\n",
    "train_attack_model(attack_data_3, 3)"
   ]
  },
  {
   "cell_type": "code",
   "execution_count": 3,
   "id": "49ea824a",
   "metadata": {
    "collapsed": true
   },
   "outputs": [
    {
     "name": "stderr",
     "output_type": "stream",
     "text": [
      "D:\\Users\\patry\\anaconda3\\lib\\site-packages\\sklearn\\base.py:310: UserWarning: Trying to unpickle estimator FeatureUnion from version 0.23.2 when using version 0.24.1. This might lead to breaking code or invalid results. Use at your own risk.\n",
      "  warnings.warn(\n",
      "D:\\Users\\patry\\anaconda3\\lib\\site-packages\\sklearn\\base.py:310: UserWarning: Trying to unpickle estimator Pipeline from version 0.23.2 when using version 0.24.1. This might lead to breaking code or invalid results. Use at your own risk.\n",
      "  warnings.warn(\n"
     ]
    }
   ],
   "source": [
    "attack_model_1 = joblib.load('output/attack_model_1.pkl')\n",
    "attack_model_2 = joblib.load('output/attack_model_2.pkl')\n",
    "attack_model_3 = joblib.load('output/attack_model_3.pkl')"
   ]
  }
 ],
 "metadata": {
  "kernelspec": {
   "display_name": "Python 3",
   "language": "python",
   "name": "python3"
  },
  "language_info": {
   "codemirror_mode": {
    "name": "ipython",
    "version": 3
   },
   "file_extension": ".py",
   "mimetype": "text/x-python",
   "name": "python",
   "nbconvert_exporter": "python",
   "pygments_lexer": "ipython3",
   "version": "3.8.8"
  }
 },
 "nbformat": 4,
 "nbformat_minor": 5
}
